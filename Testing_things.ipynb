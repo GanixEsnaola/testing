{
 "cells": [
  {
   "cell_type": "markdown",
   "metadata": {},
   "source": [
    "<div style=\"background-color:#282423; text-align:center; vertical-align: middle; padding:10px 40px;\">\n",
    "    <div align=\"left\" style=\"font-size:1em; color:#8c8c8c;font-family:didot;\">First test for theory templates</div>\n",
    "<!-- 1em son 16px -->\n",
    "    <div align=\"right\" style=\"font-size:1em; color:#8c8c8c;font-family:didot;\" >Topic N</div>\n",
    "    <br/>\n",
    "    <br/>\n",
    "    <br/>\n",
    "    <h1 style=\"margin: 10px;color:white;font-family:didot;\">LOREM IPSUM and FIGs</h1>\n",
    "    <hr>\n",
    "     <h1 style=\"margin: 10px;color:white;font-family:didot;\">TOPIC N</h1>\n",
    "    <br>\n",
    "    <h1 style=\"margin: 10px;color:#BFAE5F;font-family:didot;\"><em>~ Basic text ~</em></h1>\n",
    "    <h1 style=\"margin: 10px;color:#BFAE5F;font-family:didot;\"><em>~ Basic latex code ~</em></h1>\n",
    "    <h1 style=\"margin: 10px;color:#BFAE5F;font-family:didot;\"><em>~ Include inkscape generated pdf_latex figure ~</em></h1>\n",
    "    <br/>\n",
    "\n",
    "</div>"
   ]
  },
  {
   "cell_type": "markdown",
   "metadata": {},
   "source": [
    "\n",
    "\n",
    "<h1><b style=\"font-size: 18px;\">ELOREM IPSUM EXAMPLE</b></h1>\n",
    "<br>\n",
    "<hr>  \n",
    "    \n",
    "Lorem ipsum dolor sit amet, consectetur adipiscing elit, sed do eiusmod tempor incididunt ut labore et dolore magna aliqua. Ut enim ad minim veniam, quis nostrud exercitation ullamco laboris nisi ut aliquip ex ea commodo consequat. Duis aute irure dolor in reprehenderit in voluptate velit esse cillum dolore eu fugiat nulla pariatur. Excepteur sint occaecat cupidatat non proident, sunt in culpa qui officia deserunt mollit anim id est laborum.\n",
    "\n",
    "\n",
    "Lorem ipsum dolor sit amet, consectetur adipiscing elit, sed do eiusmod tempor incididunt ut labore et dolore magna aliqua. Ut enim ad minim veniam, quis nostrud exercitation ullamco laboris nisi ut aliquip ex ea commodo consequat. Duis aute irure dolor in reprehenderit in voluptate velit esse cillum dolore eu fugiat nulla pariatur. Excepteur sint occaecat cupidatat non proident, sunt in culpa qui officia deserunt mollit anim id est laborum.\n",
    "\n",
    "\n",
    "\n",
    "Lorem ipsum dolor sit amet, consectetur adipiscing elit, sed do eiusmod tempor incididunt ut labore et dolore magna aliqua. Ut enim ad minim veniam, quis nostrud exercitation ullamco laboris nisi ut aliquip ex ea commodo consequat. Duis aute irure dolor in reprehenderit in voluptate velit esse cillum dolore eu fugiat nulla pariatur. Excepteur sint occaecat cupidatat non proident, sunt in culpa qui officia deserunt mollit anim id est laborum.\n",
    "\n",
    "\n",
    "\n",
    "Lorem ipsum dolor sit amet, consectetur adipiscing elit, sed do eiusmod tempor incididunt ut labore et dolore magna aliqua. Ut enim ad minim veniam, quis nostrud exercitation ullamco laboris nisi ut aliquip ex ea commodo consequat. Duis aute irure dolor in reprehenderit in voluptate velit esse cillum dolore eu fugiat nulla pariatur. Excepteur sint occaecat cupidatat non proident, sunt in culpa qui officia deserunt mollit anim id est laborum.\n",
    "\n",
    "\n",
    "\n",
    "Lorem ipsum dolor sit amet, consectetur adipiscing elit, sed do eiusmod tempor incididunt ut labore et dolore magna aliqua. Ut enim ad minim veniam, quis nostrud exercitation ullamco laboris nisi ut aliquip ex ea commodo consequat. Duis aute irure dolor in reprehenderit in voluptate velit esse cillum dolore eu fugiat nulla pariatur. Excepteur sint occaecat cupidatat non proident, sunt in culpa qui officia deserunt mollit anim id est laborum.\n",
    "\n",
    "\n",
    "\n",
    "Lorem ipsum dolor sit amet, consectetur adipiscing elit, sed do eiusmod tempor incididunt ut labore et dolore magna aliqua. Ut enim ad minim veniam, quis nostrud exercitation ullamco laboris nisi ut aliquip ex ea commodo consequat. Duis aute irure dolor in reprehenderit in voluptate velit esse cillum dolore eu fugiat nulla pariatur. Excepteur sint occaecat cupidatat non proident, sunt in culpa qui officia deserunt mollit anim id est laborum.\n",
    "    \n",
    "\\begin{figure}[ht]\n",
    "    \\centering\n",
    "    \\includegraphics[width=.8\\linewidth]{tuberias_serie.png} \n",
    "\\end{figure}\n",
    "\n",
    "\n",
    "    \n",
    "\n",
    "    \n",
    "\\begin{align}\n",
    "    \\sum F_{x} &= 0 \\\\\n",
    "    P_{_{1}} \\cdot A_{_{1}} - P_{_{2}} \\cdot A_{_{2}} + \\underbrace{W}_{\\gamma \\cdot \\underbrace{V}_{A \\cdot L}} \\cdot \\sin(\\theta) - \\tau \\cdot P \\cdot L &= \\rho \\cdot \\left[Q \\cdot v - Q \\cdot v\\right]\\\\\n",
    "    \\left(P_{_{1}} - P_{_{2}} \\right) \\cdot A + \\gamma \\cdot A \\cdot \\underbrace{L \\cdot \\sin(\\theta)}_{z_{_{1}} - z_{_{2}}} &= \\tau \\cdot P \\cdot L \\\\    \n",
    "    Dividir ~ por \\left(\\gamma \\cdot A \\right): \\frac{P_{_{1}} - P_{_{2}}}{\\gamma} + \\left(z_{_{1}} - z_{_{2}} \\right) &= \\frac{\\tau \\cdot P \\cdot L}{\\gamma \\cdot A}\n",
    "\\end{align}"
   ]
  },
  {
   "cell_type": "markdown",
   "metadata": {},
   "source": []
  },
  {
   "cell_type": "code",
   "execution_count": null,
   "metadata": {},
   "outputs": [],
   "source": []
  },
  {
   "cell_type": "code",
   "execution_count": null,
   "metadata": {},
   "outputs": [],
   "source": []
  },
  {
   "cell_type": "code",
   "execution_count": null,
   "metadata": {},
   "outputs": [],
   "source": []
  }
 ],
 "metadata": {
  "kernelspec": {
   "display_name": "Python 3",
   "language": "python",
   "name": "python3"
  },
  "language_info": {
   "codemirror_mode": {
    "name": "ipython",
    "version": 3
   },
   "file_extension": ".py",
   "mimetype": "text/x-python",
   "name": "python",
   "nbconvert_exporter": "python",
   "pygments_lexer": "ipython3",
   "version": "3.8.8"
  },
  "latex_envs": {
   "LaTeX_envs_menu_present": true,
   "autoclose": false,
   "autocomplete": true,
   "bibliofile": "biblio.bib",
   "cite_by": "apalike",
   "current_citInitial": 1,
   "eqLabelWithNumbers": true,
   "eqNumInitial": 1,
   "hotkeys": {
    "equation": "Ctrl-E",
    "itemize": "Ctrl-I"
   },
   "labels_anchors": false,
   "latex_user_defs": false,
   "report_style_numbering": false,
   "user_envs_cfg": false
  }
 },
 "nbformat": 4,
 "nbformat_minor": 4
}
